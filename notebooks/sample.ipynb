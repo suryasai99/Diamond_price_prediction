{
 "cells": [
  {
   "cell_type": "code",
   "execution_count": 6,
   "metadata": {},
   "outputs": [],
   "source": [
    "import pandas as pd\n",
    "import numpy as np\n",
    "from sklearn.impute import SimpleImputer\n",
    "from sklearn.preprocessing import StandardScaler,OrdinalEncoder\n",
    "from sklearn.pipeline import Pipeline\n",
    "from sklearn.compose import ColumnTransformer\n",
    "from sklearn.model_selection import train_test_split\n",
    "from sklearn.linear_model import LinearRegression,Lasso,Ridge,ElasticNet\n",
    "from sklearn.ensemble import RandomForestRegressor\n",
    "from sklearn.metrics import r2_score,mean_absolute_error,mean_squared_error\n",
    "\n",
    "from src.logger import logging\n",
    "from src.exception import CustomException\n",
    "\n",
    "from src.entity.config_entity import(ModelEvaluationConfig,\n",
    "                                     ModelTrainingConfig,\n",
    "                                     DataTransformationConfig,\n",
    "                                     TrainingPipelineConfig) \n",
    "                          \n",
    "from src.utils import(load_object,\n",
    "                      load_numpy_array_data,\n",
    "                      save_file_yaml)\n",
    "\n",
    "from sklearn.metrics import(r2_score,\n",
    "                            mean_absolute_error,\n",
    "                            mean_squared_error)\n",
    "\n",
    "from src.components.model_evaluation import ModelEvaluation\n",
    "import os,sys"
   ]
  },
  {
   "cell_type": "code",
   "execution_count": 3,
   "metadata": {},
   "outputs": [],
   "source": [
    "x_test = load_numpy_array_data('/Users/suryasaikadali/Downloads/pw_skills/end_to_End_projects/Diamond_price_prediction/artifacts/Data_Transformation/Test/x_test.npy')\n",
    "y_test = load_numpy_array_data('/Users/suryasaikadali/Downloads/pw_skills/end_to_End_projects/Diamond_price_prediction/artifacts/Data_Transformation/Test/y_test.npy')\n",
    "model = load_object('/Users/suryasaikadali/Downloads/pw_skills/end_to_End_projects/Diamond_price_prediction/artifacts/Model_training/model.pkl')"
   ]
  },
  {
   "cell_type": "code",
   "execution_count": 4,
   "metadata": {},
   "outputs": [
    {
     "data": {
      "text/plain": [
       "array([[-0.62800612,  0.25822077, -0.1185356 , ...,  0.87256313,\n",
       "        -1.55203404, -0.64895039],\n",
       "       [ 2.60856914, -2.14697321, -0.1185356 , ..., -1.13824635,\n",
       "         0.29601461, -1.31495318],\n",
       "       [-1.124281  , -1.2218986 ,  0.9237514 , ..., -0.13284161,\n",
       "        -0.93601782,  2.01506078],\n",
       "       ...,\n",
       "       [ 0.23508062,  0.53574316,  3.00832538, ..., -1.13824635,\n",
       "        -0.32000161, -0.64895039],\n",
       "       [-0.62800612,  0.16571331,  1.44489489, ..., -1.13824635,\n",
       "        -0.32000161, -0.64895039],\n",
       "       [-0.52012028, -1.49942098, -0.1185356 , ..., -1.13824635,\n",
       "         0.91203083, -0.64895039]])"
      ]
     },
     "execution_count": 4,
     "metadata": {},
     "output_type": "execute_result"
    }
   ],
   "source": [
    "x_test "
   ]
  },
  {
   "cell_type": "code",
   "execution_count": 5,
   "metadata": {},
   "outputs": [],
   "source": [
    "y_pred = model.predict(x_test)"
   ]
  },
  {
   "cell_type": "code",
   "execution_count": null,
   "metadata": {},
   "outputs": [],
   "source": []
  },
  {
   "cell_type": "code",
   "execution_count": null,
   "metadata": {},
   "outputs": [],
   "source": []
  },
  {
   "cell_type": "code",
   "execution_count": null,
   "metadata": {},
   "outputs": [],
   "source": []
  }
 ],
 "metadata": {
  "kernelspec": {
   "display_name": "Python 3",
   "language": "python",
   "name": "python3"
  },
  "language_info": {
   "codemirror_mode": {
    "name": "ipython",
    "version": 3
   },
   "file_extension": ".py",
   "mimetype": "text/x-python",
   "name": "python",
   "nbconvert_exporter": "python",
   "pygments_lexer": "ipython3",
   "version": "3.11.9"
  }
 },
 "nbformat": 4,
 "nbformat_minor": 2
}
